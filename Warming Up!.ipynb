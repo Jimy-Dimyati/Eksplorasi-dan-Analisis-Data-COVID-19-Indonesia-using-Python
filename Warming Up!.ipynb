bersatulawancovid = ['cuci tangan', 'pakai masker', 'jaga jarak']
print(bersatulawancovid)
